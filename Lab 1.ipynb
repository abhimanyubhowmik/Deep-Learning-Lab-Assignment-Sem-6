{
 "cells": [
  {
   "cell_type": "code",
   "execution_count": 1,
   "metadata": {},
   "outputs": [],
   "source": [
    "import numpy as np\n",
    "import pandas as pd\n",
    "import matplotlib.pyplot as plt"
   ]
  },
  {
   "cell_type": "code",
   "execution_count": 2,
   "metadata": {},
   "outputs": [],
   "source": [
    "def hardlim(n):\n",
    "    \n",
    "    if n<0:\n",
    "        return -1\n",
    "    elif n >=0:\n",
    "        return 1\n",
    "    else:\n",
    "        return 0\n",
    "\n",
    "def sigmoid(n):\n",
    "    return 1/(1+np.exp(-n))\n",
    "\n",
    "def tansig(n):\n",
    "    num = np.exp(n) - np.exp(-n)\n",
    "    den = np.exp(n) + np.exp(-n)\n",
    "    return num/den"
   ]
  },
  {
   "cell_type": "code",
   "execution_count": 3,
   "metadata": {},
   "outputs": [
    {
     "data": {
      "text/html": [
       "<div>\n",
       "<style scoped>\n",
       "    .dataframe tbody tr th:only-of-type {\n",
       "        vertical-align: middle;\n",
       "    }\n",
       "\n",
       "    .dataframe tbody tr th {\n",
       "        vertical-align: top;\n",
       "    }\n",
       "\n",
       "    .dataframe thead th {\n",
       "        text-align: right;\n",
       "    }\n",
       "</style>\n",
       "<table border=\"1\" class=\"dataframe\">\n",
       "  <thead>\n",
       "    <tr style=\"text-align: right;\">\n",
       "      <th></th>\n",
       "      <th>5.1</th>\n",
       "      <th>3.5</th>\n",
       "      <th>1.4</th>\n",
       "      <th>0.2</th>\n",
       "      <th>Iris-setosa</th>\n",
       "    </tr>\n",
       "  </thead>\n",
       "  <tbody>\n",
       "    <tr>\n",
       "      <th>0</th>\n",
       "      <td>4.9</td>\n",
       "      <td>3.0</td>\n",
       "      <td>1.4</td>\n",
       "      <td>0.2</td>\n",
       "      <td>Iris-setosa</td>\n",
       "    </tr>\n",
       "    <tr>\n",
       "      <th>1</th>\n",
       "      <td>4.7</td>\n",
       "      <td>3.2</td>\n",
       "      <td>1.3</td>\n",
       "      <td>0.2</td>\n",
       "      <td>Iris-setosa</td>\n",
       "    </tr>\n",
       "    <tr>\n",
       "      <th>2</th>\n",
       "      <td>4.6</td>\n",
       "      <td>3.1</td>\n",
       "      <td>1.5</td>\n",
       "      <td>0.2</td>\n",
       "      <td>Iris-setosa</td>\n",
       "    </tr>\n",
       "    <tr>\n",
       "      <th>3</th>\n",
       "      <td>5.0</td>\n",
       "      <td>3.6</td>\n",
       "      <td>1.4</td>\n",
       "      <td>0.2</td>\n",
       "      <td>Iris-setosa</td>\n",
       "    </tr>\n",
       "    <tr>\n",
       "      <th>4</th>\n",
       "      <td>5.4</td>\n",
       "      <td>3.9</td>\n",
       "      <td>1.7</td>\n",
       "      <td>0.4</td>\n",
       "      <td>Iris-setosa</td>\n",
       "    </tr>\n",
       "  </tbody>\n",
       "</table>\n",
       "</div>"
      ],
      "text/plain": [
       "   5.1  3.5  1.4  0.2  Iris-setosa\n",
       "0  4.9  3.0  1.4  0.2  Iris-setosa\n",
       "1  4.7  3.2  1.3  0.2  Iris-setosa\n",
       "2  4.6  3.1  1.5  0.2  Iris-setosa\n",
       "3  5.0  3.6  1.4  0.2  Iris-setosa\n",
       "4  5.4  3.9  1.7  0.4  Iris-setosa"
      ]
     },
     "execution_count": 3,
     "metadata": {},
     "output_type": "execute_result"
    }
   ],
   "source": [
    "df = pd.read_csv('iris.data')\n",
    "df.head()"
   ]
  },
  {
   "cell_type": "code",
   "execution_count": 4,
   "metadata": {},
   "outputs": [],
   "source": [
    "def target_converter(Lable):\n",
    "    A = []\n",
    "    output = []\n",
    "    x = 0\n",
    "\n",
    "    for i in Lable:\n",
    "        if (i not in A):\n",
    "            A.append(i)\n",
    "            x += 1\n",
    "        \n",
    "    for i in Lable:\n",
    "        x = A.index(i)\n",
    "        output.append(x)\n",
    "        \n",
    "    return(np.array(output))"
   ]
  },
  {
   "cell_type": "code",
   "execution_count": 5,
   "metadata": {},
   "outputs": [
    {
     "data": {
      "text/plain": [
       "array([[4.9, 3.0, 1.4],\n",
       "       [4.7, 3.2, 1.3],\n",
       "       [4.6, 3.1, 1.5],\n",
       "       [5.0, 3.6, 1.4],\n",
       "       [5.4, 3.9, 1.7]], dtype=object)"
      ]
     },
     "execution_count": 5,
     "metadata": {},
     "output_type": "execute_result"
    }
   ],
   "source": [
    "X = np.array(df)[:,0:3]\n",
    "X[:5]"
   ]
  },
  {
   "cell_type": "code",
   "execution_count": 6,
   "metadata": {},
   "outputs": [],
   "source": [
    "def nuron_drawhist(x):\n",
    "    ao1_list = []\n",
    "    ao2_list = []\n",
    "    ao3_list = []\n",
    "\n",
    "    for i in x:\n",
    "        w = np.random.rand(3)\n",
    "\n",
    "        net = np.dot(i,w.T)\n",
    "\n",
    "        ao1 = hardlim(net)\n",
    "        ao2 = sigmoid(net)\n",
    "        ao3 = tansig(net)\n",
    "\n",
    "        ao1_list.append(ao1)\n",
    "        ao2_list.append(ao2)\n",
    "        ao3_list.append(ao3)\n",
    "\n",
    "    plt.subplot(1,3,1)\n",
    "    plt.hist(ao1_list,bins= 5)\n",
    "    plt.title('Hard Lim')\n",
    "\n",
    "    plt.subplot(1,3,2)\n",
    "    plt.hist(ao2_list, bins=5)\n",
    "    plt.title('Log Sigmoidal')\n",
    "\n",
    "    plt.subplot(1,3,3)\n",
    "    plt.hist(ao3_list, bins= 5)\n",
    "    plt.title('Tan Sig')\n",
    "\n",
    "    plt.tight_layout()\n",
    "\n",
    "    plt.show()\n",
    "\n",
    "\n",
    "\n",
    "    "
   ]
  },
  {
   "cell_type": "code",
   "execution_count": 7,
   "metadata": {},
   "outputs": [
    {
     "data": {
      "image/png": "[encoded data removed]",
      "text/plain": [
       "<Figure size 432x288 with 3 Axes>"
      ]
     },
     "metadata": {
      "needs_background": "light"
     },
     "output_type": "display_data"
    }
   ],
   "source": [
    "nuron_drawhist(X)"
   ]
  },
  {
   "cell_type": "code",
   "execution_count": 8,
   "metadata": {},
   "outputs": [],
   "source": [
    "def nuron_drawScatter(x):\n",
    "    ao1_list = []\n",
    "    ao2_list = []\n",
    "    ao3_list = []\n",
    "\n",
    "    for i in x:\n",
    "        w = np.random.rand(3)\n",
    "\n",
    "        net = np.dot(i,w.T)\n",
    "\n",
    "        ao1 = hardlim(net)\n",
    "        ao2 = sigmoid(net)\n",
    "        ao3 = tansig(net)\n",
    "\n",
    "        ao1_list.append(ao1)\n",
    "        ao2_list.append(ao2)\n",
    "        ao3_list.append(ao3)\n",
    "    ax = plt.axes(projection = '3d')\n",
    "    ax.scatter3D(ao1_list,ao2_list, ao3_list)\n",
    "    ax.set_xlabel('Hard Lim')\n",
    "    ax.set_ylabel('Log Sigmoidal')\n",
    "    ax.set_zlabel('Tan Sig')\n",
    "\n",
    "    plt.show()\n",
    "    "
   ]
  },
  {
   "cell_type": "code",
   "execution_count": 9,
   "metadata": {},
   "outputs": [
    {
     "data": {
      "image/png": "[encoded data removed]",
      "text/plain": [
       "<Figure size 432x288 with 1 Axes>"
      ]
     },
     "metadata": {
      "needs_background": "light"
     },
     "output_type": "display_data"
    }
   ],
   "source": [
    "nuron_drawScatter(X)"
   ]
  }
 ],
 "metadata": {
  "interpreter": {
   "hash": "aee8b7b246df8f9039afb4144a1f6fd8d2ca17a180786b69acc140d282b71a49"
  },
  "kernelspec": {
   "display_name": "Python 3.9.7 64-bit",
   "language": "python",
   "name": "python3"
  },
  "language_info": {
   "codemirror_mode": {
    "name": "ipython",
    "version": 3
   },
   "file_extension": ".py",
   "mimetype": "text/x-python",
   "name": "python",
   "nbconvert_exporter": "python",
   "pygments_lexer": "ipython3",
   "version": "3.9.7"
  },
  "orig_nbformat": 4
 },
 "nbformat": 4,
 "nbformat_minor": 2
}
