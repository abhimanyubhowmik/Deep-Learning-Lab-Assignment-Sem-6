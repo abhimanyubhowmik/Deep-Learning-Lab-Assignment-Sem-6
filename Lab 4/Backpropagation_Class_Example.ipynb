{
  "cells": [
    {
      "cell_type": "markdown",
      "metadata": {
        "id": "view-in-github",
        "colab_type": "text"
      },
      "source": [
        "<a href=\"https://colab.research.google.com/github/abhimanyubhowmik/Introduction-to-Deep-Learning-CSE321/blob/main/Lab%204/Backpropagation_Class_Example.ipynb\" target=\"_parent\"><img src=\"https://colab.research.google.com/assets/colab-badge.svg\" alt=\"Open In Colab\"/></a>"
      ]
    },
    {
      "cell_type": "code",
      "execution_count": null,
      "metadata": {
        "id": "3n5-g9IXLM4U"
      },
      "outputs": [],
      "source": [
        "import numpy as np\n",
        "import pandas as pd\n",
        "import matplotlib.pyplot as plt\n",
        "import seaborn as sns\n",
        "from sympy import *"
      ]
    },
    {
      "cell_type": "code",
      "execution_count": null,
      "metadata": {
        "id": "8XdpD90aLM4b"
      },
      "outputs": [],
      "source": [
        "def Z_op(X,W,B):\n",
        "    Z = np.dot(W,X.T) + B\n",
        "    return Z\n",
        "\n",
        "def Y_op(Tf,*Z):\n",
        "    Yout = []\n",
        "    for z in Z:\n",
        "        y = Tf(z)\n",
        "        Yout.append(y)\n",
        "    return np.array(Yout)\n",
        "\n",
        "def Cost(Y,T):\n",
        "    errors = T - Y\n",
        "    SSE = 0\n",
        "    for error in errors:\n",
        "        SSE = SSE + error*error\n",
        "    MSE = SSE/len(errors)\n",
        "    return MSE"
      ]
    },
    {
      "cell_type": "code",
      "execution_count": null,
      "metadata": {
        "id": "hFJ8XihiLM4c"
      },
      "outputs": [],
      "source": [
        "def feed_forward(W,B,X,Tf_list):\n",
        "    Z_list = []\n",
        "    X_list = []\n",
        "    X_list.append(X)\n",
        "    for i,j,k in zip(range(len(W)),range(len(B)),range(len(Tf_list))):\n",
        "        z = Z_op(X,W[i],B[j])\n",
        "        Z_list.append(z)\n",
        "        y = Y_op(Tf_list[k],z)\n",
        "        X = y\n",
        "        X_list.append(X)\n",
        "    return Z_list,X_list"
      ]
    },
    {
      "cell_type": "code",
      "execution_count": null,
      "metadata": {
        "id": "Q_qfPWorLM4e"
      },
      "outputs": [],
      "source": [
        "def sensitivity(Z_list,X_list,F_prime,Target,Weights):\n",
        "    F_list = []\n",
        "    Sn_list = []\n",
        "    for i in range(len(Z_list)):\n",
        "        D = []\n",
        "        for k in Z_list[i]:\n",
        "            d = F_prime[i](k)\n",
        "            D.append(d)\n",
        "        Dag = np.array(D)\n",
        "        F_dot = np.diag(Dag)\n",
        "        F_list.append(F_dot)\n",
        "    F_n = F_list.pop(len(F_list)-1)\n",
        "    A_n = X_list.pop(len(X_list)-1)\n",
        "    error = Target - A_n\n",
        "    S_n = np.array(-2*np.dot(F_n,error.T))\n",
        "    Sn_list.append(S_n)\n",
        "    for i in range(len(F_list),0,-1):\n",
        "        F_dot_W = np.array(np.dot(F_list[i-1],Weights[i].T))\n",
        "        S_n = F_dot_W*S_n\n",
        "        Sn_list.append(S_n.T)\n",
        "    return Sn_list\n"
      ]
    },
    {
      "cell_type": "code",
      "execution_count": null,
      "metadata": {
        "id": "aYQFww5dLM4f"
      },
      "outputs": [],
      "source": [
        "def weight_bias_updation(Weight,Bias,Alpha,Sensitivity,X_List):\n",
        "    new_weights = []\n",
        "    new_bias = []\n",
        "    def reshaping(vector):\n",
        "      if vector.shape == (len(vector),1):\n",
        "        return vector.reshape(len(vector),)\n",
        "      elif vector.shape == (1,len(vector[0])):\n",
        "        return vector.reshape(len(vector[0]),)\n",
        "      else :\n",
        "        return vector\n",
        "    def Reverse(lst):\n",
        "        return [ele for ele in reversed(lst)]\n",
        "    sens = Reverse(Sensitivity)\n",
        "\n",
        "    for i in range(len(Weight)):\n",
        "        delta_w = reshaping(Alpha*sens[i]*X_List[i].T)\n",
        "        w = Weight[i] - delta_w #As a(1) = X[0], The loop will run for w[0],w[1]...w[n-1], which we will use as w1,w2...wn\n",
        "        new_weights.append(w)\n",
        "    for i in range(len(Bias)):\n",
        "        b = Bias[i] - reshaping(Alpha*sens[i])\n",
        "        new_bias.append(b)\n",
        "    return new_weights,new_bias"
      ]
    },
    {
      "cell_type": "code",
      "source": [
        "def Error_Collection(Target,Output,All_Errors):\n",
        "  Error = Cost(Output,Target)\n",
        "  All_Errors.append(Error)"
      ],
      "metadata": {
        "id": "xMKRmc2zDCzQ"
      },
      "execution_count": null,
      "outputs": []
    },
    {
      "cell_type": "code",
      "execution_count": null,
      "metadata": {
        "id": "D3t0iRlkLM4g"
      },
      "outputs": [],
      "source": [
        "def backpropagation(Weight,Bias,Pattern,Target,Alpha,Transfer_Function,F_Prime,Epoch):\n",
        "  all_errors = []\n",
        "  epoch_list = []\n",
        "  for i in range(Epoch):\n",
        "      zl,xl = feed_forward(Weight,Bias,Pattern,Transfer_Function)\n",
        "      actual_output = xl[len(xl)-1]\n",
        "      Error_Collection(Target,actual_output,all_errors)\n",
        "      sen = sensitivity(zl,xl,F_Prime,Target,Weight)\n",
        "      Weight,Bias = weight_bias_updation(Weight,Bias,Alpha,sen,xl)\n",
        "      epoch_list.append(i+1)\n",
        "  plt.scatter(epoch_list,all_errors)\n",
        "  plt.xlabel('Number of Epoch')\n",
        "  plt.ylabel('Mean Square Error')\n",
        "      "
      ]
    },
    {
      "cell_type": "code",
      "source": [
        "def input_velues():\n",
        "  num_layers = int(input('Enter number of layers'))\n",
        "  num_nurons = []\n",
        "  Tf_list = []\n",
        "  F_prime = []\n",
        "  W = []\n",
        "  B = []\n",
        "  X = []\n",
        "  T = []\n",
        "  print('\\n')\n",
        "  for num in range(num_layers):\n",
        "    print('Enter numbers of nurons in layer {number}'.format(number = num))\n",
        "    num_nuron = int(input())\n",
        "    num_nurons.append(num_nuron)\n",
        "  print('Enter mathametical expression with respect to variable x.\\n The variable should be continous, differntiable and use the proper Latex notation for each expression.\\n')\n",
        "  for num in range(num_layers - 1):\n",
        "    f_exp = input('Enter Expression for transfer function of layer {number} :'.format(number = num + 1))\n",
        "    x = Symbol('x')\n",
        "    f = lambdify(x,f_exp)\n",
        "    f_prime_exp = diff(f_exp)\n",
        "    f_prime = lambdify(x,f_prime_exp)\n",
        "    Tf_list.append(f)\n",
        "    F_prime.append(f_prime)\n",
        "\n",
        "  def reshaping(vector):\n",
        "    if type(vector[0]) == np.float64:\n",
        "      return vector\n",
        "    else:\n",
        "      if vector.shape == (len(vector),1):\n",
        "        return vector.reshape(len(vector),)\n",
        "      elif vector.shape == (1,len(vector[0])):\n",
        "        return vector.reshape(len(vector[0]),)\n",
        "      else :\n",
        "        return vector\n",
        "\n",
        "  for i in range(len(num_nurons)-1):\n",
        "    w = np.random.rand(num_nurons[i+1],num_nurons[i])\n",
        "    b = np.random.rand(num_nurons[i+1])\n",
        "    W.append(w)\n",
        "    B.append(b)\n",
        "  new_w = []\n",
        "  new_b = []\n",
        "  for w in W:\n",
        "    w = reshaping(w)\n",
        "    new_w.append(w)\n",
        "  for b in B:\n",
        "    b = reshaping(b)\n",
        "    new_b.append(b)\n",
        "  W = new_w\n",
        "  B = new_b\n",
        "  print('\\n')\n",
        "  print('Enter the list of patterns:')\n",
        "  pattern_input = input()\n",
        "  X = globals()[pattern_input]\n",
        "  print('Enter the target:')\n",
        "  target_input = input()\n",
        "  T = globals()[target_input]\n",
        "  X = np.array(X)\n",
        "  T = np.array(T)\n",
        "  alpha = float(input('Enter the learning rate :'))\n",
        "  epoch = int(input('Enter the number of epoch :'))\n",
        "  return W,B,Tf_list,F_prime,X,T,alpha,epoch\n"
      ],
      "metadata": {
        "id": "SxJmBHunOArC"
      },
      "execution_count": null,
      "outputs": []
    },
    {
      "cell_type": "code",
      "source": [
        "def main():\n",
        "  W,B,Tf_list,F_prime,X,Target,alpha,epoch = input_velues()\n",
        "  print('\\nInitial Weights:')\n",
        "  print(W)\n",
        "  print('\\nInitial Biases:')\n",
        "  print(B)\n",
        "  print('\\n')\n",
        "  backpropagation(W,B,X,Target,alpha,Tf_list,F_prime,epoch)"
      ],
      "metadata": {
        "id": "9eQVFqSbDj_5"
      },
      "execution_count": null,
      "outputs": []
    },
    {
      "cell_type": "code",
      "source": [
        "def g(p):\n",
        "  return 1 + np.sin(np.pi /4 * p)"
      ],
      "metadata": {
        "id": "0_T6qwxUt2SS"
      },
      "execution_count": null,
      "outputs": []
    },
    {
      "cell_type": "code",
      "source": [
        "inp = np.random.uniform(-2,2)"
      ],
      "metadata": {
        "id": "svmg29bGujys"
      },
      "execution_count": null,
      "outputs": []
    },
    {
      "cell_type": "code",
      "source": [
        "out = g(inp)"
      ],
      "metadata": {
        "id": "9986SELUJDTD"
      },
      "execution_count": null,
      "outputs": []
    },
    {
      "cell_type": "code",
      "source": [
        "main()"
      ],
      "metadata": {
        "colab": {
          "base_uri": "https://localhost:8080/",
          "height": 800
        },
        "id": "Ph1XWlyLDH9O",
        "outputId": "f79cf491-bede-4f23-99a9-fb5e0845d456"
      },
      "execution_count": null,
      "outputs": [
        {
          "output_type": "stream",
          "name": "stdout",
          "text": [
            "Enter number of layers3\n",
            "\n",
            "\n",
            "Enter numbers of nurons in layer 0\n",
            "1\n",
            "Enter numbers of nurons in layer 1\n",
            "2\n",
            "Enter numbers of nurons in layer 2\n",
            "1\n",
            "Enter mathametical expression with respect to variable x.\n",
            " The variable should be continous, differntiable and use the proper Latex notation for each expression.\n",
            "\n",
            "Enter Expression for transfer function of layer 1 :1/(1+exp(-x))\n",
            "Enter Expression for transfer function of layer 2 :x\n",
            "\n",
            "\n",
            "Enter the list of patterns:\n",
            "inp\n",
            "Enter the target:\n",
            "out\n",
            "Enter the learning rate :0.1\n",
            "Enter the number of epoch :20\n",
            "\n",
            "Initial Weights:\n",
            "[array([0.0947529 , 0.84021158]), array([0.80481027, 0.86641559])]\n",
            "\n",
            "Initial Biases:\n",
            "[array([0.1451077 , 0.95766091]), array([0.14997464])]\n",
            "\n",
            "\n"
          ]
        },
        {
          "output_type": "display_data",
          "data": {
            "text/plain": [
              "<Figure size 432x288 with 1 Axes>"
            ],
            "image/png": "[encoded data removed]"
          },
          "metadata": {
            "needs_background": "light"
          }
        }
      ]
    }
  ],
  "metadata": {
    "interpreter": {
      "hash": "aee8b7b246df8f9039afb4144a1f6fd8d2ca17a180786b69acc140d282b71a49"
    },
    "kernelspec": {
      "display_name": "Python 3.9.7 64-bit",
      "language": "python",
      "name": "python3"
    },
    "language_info": {
      "codemirror_mode": {
        "name": "ipython",
        "version": 3
      },
      "file_extension": ".py",
      "mimetype": "text/x-python",
      "name": "python",
      "nbconvert_exporter": "python",
      "pygments_lexer": "ipython3",
      "version": "3.9.7"
    },
    "orig_nbformat": 4,
    "colab": {
      "name": "Backpropagation Class Example.ipynb",
      "provenance": [],
      "include_colab_link": true
    }
  },
  "nbformat": 4,
  "nbformat_minor": 0
}