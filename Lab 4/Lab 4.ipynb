{
  "cells": [
    {
      "cell_type": "markdown",
      "metadata": {
        "id": "-ycIXscP6Ohm"
      },
      "source": [
        "# **Lab 4**"
      ]
    },
    {
      "cell_type": "markdown",
      "metadata": {
        "id": "VY1YEfeu2IVx"
      },
      "source": [
        "### Question:\n",
        "#### Write a python program to build a neural network model ( with 1-2-1 layer architecture ) with backpropagation training algorithm to approximate a function \n",
        "\n",
        "$g(p) = sin(\\frac{π}4 × p)$\n",
        "\n",
        "Where, $ -2 ≤ p ≤ 2 $\n",
        "\n",
        "#### Transfer function for layer 1: Log-sigmoidal\n",
        "\n",
        "#### Transfer function for layer 2: Pure-limit\n",
        "\n",
        "#### Learnign Rate: 0.1\n",
        "\n",
        "#### Try changing architucture of the network and learning rate to demonstrate the changes of Mean Square Error w.r.t Epoch for the Nural Network.\n",
        "\n"
      ]
    },
    {
      "cell_type": "markdown",
      "metadata": {
        "id": "efw9ExXF6Vyy"
      },
      "source": [
        "### Solution:"
      ]
    },
    {
      "cell_type": "code",
      "execution_count": 62,
      "metadata": {
        "id": "3n5-g9IXLM4U"
      },
      "outputs": [],
      "source": [
        "# Import Libraries\n",
        "import numpy as np\n",
        "import pandas as pd\n",
        "import matplotlib.pyplot as plt\n",
        "import seaborn as sns\n",
        "from sympy import *"
      ]
    },
    {
      "cell_type": "code",
      "execution_count": 63,
      "metadata": {
        "id": "8XdpD90aLM4b"
      },
      "outputs": [],
      "source": [
        "# Net Calculation\n",
        "def Z_op(X,W,B):\n",
        "    Z = np.dot(X,W.T) + B\n",
        "    return Z\n",
        "\n",
        "# Actual Output Calculation\n",
        "def Y_op(Tf,Z):\n",
        "    Yout = []\n",
        "    for z in Z:\n",
        "        y = Tf(z)\n",
        "        Yout.append(y)\n",
        "    return np.array(Yout)\n",
        "    \n",
        "# Error Calculation\n",
        "def Cost(Y,T):\n",
        "    errors = T - Y\n",
        "    # Sum of sq err\n",
        "    SSE = 0\n",
        "    for error in errors:\n",
        "        SSE = SSE + error*error\n",
        "    # Mean sq err\n",
        "    MSE = SSE/len(errors)\n",
        "    return MSE"
      ]
    },
    {
      "cell_type": "markdown",
      "metadata": {
        "id": "RmxZ-gxCbxHT"
      },
      "source": [
        "### Froward propagation:\n",
        "\n",
        "${\\bf a^{m + 1} = f^{m+1} ( W^{m+1} a^m + b^{m+1})}$\n",
        "\n",
        "#### For $ m = 0,1,...,M-1 $\n",
        "\n",
        "#### Where,\n",
        "\n",
        "#### $f^{i}$ is transfer function of $i$ th layer\n",
        "\n",
        "#### $a^{i}$ is actual output of $i$ th layer\n",
        "\n",
        "#### $W^{i}$ is weight matrix of $i$ th layer\n",
        "\n",
        "#### $b^{i}$ is bias of $i$ th layer"
      ]
    },
    {
      "cell_type": "code",
      "execution_count": 64,
      "metadata": {
        "id": "hFJ8XihiLM4c"
      },
      "outputs": [],
      "source": [
        "def feed_forward(W,B,X,Tf_list):\n",
        "    Z_list = []\n",
        "    X_list = []\n",
        "    X_list.append(X)\n",
        "    for i,j,k in zip(range(len(W)),range(len(B)),range(len(Tf_list))):\n",
        "        z = Z_op(X,W[i],B[j])\n",
        "        Z_list.append(z)\n",
        "        # Using Transfer Function from the TF list \n",
        "        y = Y_op(Tf_list[k],z)\n",
        "        # Equating actual output to next neuron input\n",
        "        X = y\n",
        "        X_list.append(X)\n",
        "    # Return actual output and net\n",
        "    return Z_list,X_list"
      ]
    },
    {
      "cell_type": "markdown",
      "metadata": {
        "id": "mbYIX9JfTvwl"
      },
      "source": [
        "### Sensivity:\n",
        "\n",
        "#### The sensivity index represents,\n",
        "\n",
        "$S^m ≡ {\\bf \\frac{∂F̂}{∂n^m}} = \\begin{bmatrix}\n",
        "\\frac{∂F̂}{∂n_1^m}\\\\\n",
        "\\frac{∂F̂}{∂n_2^m}\\\\\n",
        ".\\\\\n",
        ".\\\\\n",
        ".\\\\\n",
        "\\frac{∂F̂}{∂n_{S^m}^m}\n",
        "\\end{bmatrix}$\n",
        "\n",
        "#### Sensivity index for all the layer except last layer, ( i.e. backpropagating through sensitivities ):\n",
        "$S^m = {\\bf Ḟ^m(n^m)(W^{m+1})^{\\it T}s^{m+1}}$\n",
        "\n",
        "#### Sensivity of last layer:\n",
        "$S^M = -2 {\\bf Ḟ^M(n^M)(t - a)}$\n",
        "\n",
        "#### Where,\n",
        "\n",
        "${\\bf Ḟ^m(n^m)} = \\begin{bmatrix}\n",
        "ḟ^m(n_1^m) & 0 & ... & 0\\\\\n",
        "0 & ḟ^m(n_2^m) & ... & 0\\\\\n",
        ". & . &  & .\\\\\n",
        ". & . &  & .\\\\\n",
        "0 & 0 & ... & ḟ^m(n_{S^m}^m)\n",
        "\\end{bmatrix}$\n",
        "\n",
        "#### here,\n",
        "\n",
        "$ḟ^m(n_j^m) = \\frac{∂f(n_j^m)}{∂n_j^m}$\n",
        "\n",
        "#### i.e. derivative of transfer function,\n",
        "\n",
        "#### and $n^i$ is $i$ th layer net output"
      ]
    },
    {
      "cell_type": "code",
      "execution_count": 65,
      "metadata": {
        "id": "Q_qfPWorLM4e"
      },
      "outputs": [],
      "source": [
        "def sensitivity(Z_list,X_list,F_prime,Target,Weights):\n",
        "    F_list = []\n",
        "    Sn_list = []\n",
        "    # To change the shape of vector from (n,) -> (n,1)\n",
        "    def reverse_reshaping(vector):\n",
        "      if vector.shape == (len(vector),):\n",
        "        return vector.reshape(len(vector),1)\n",
        "      else :\n",
        "        return vector\n",
        "    for i in range(len(Z_list)):\n",
        "      # F dot diagonal matrics calculation\n",
        "        D = []\n",
        "        for k in Z_list[i]:\n",
        "            d = F_prime[i](k)\n",
        "            D.append(d)\n",
        "        Dag = np.array(D)\n",
        "        F_dot = np.diag(Dag)\n",
        "        F_list.append(F_dot)\n",
        "    # Assigning F_n to last layer F dot value\n",
        "    F_n = F_list.pop(len(F_list)-1)\n",
        "    A_n = X_list.pop(len(X_list)-1)\n",
        "    # Calculation of Error for calculation of last layer senditivity\n",
        "    error = Target - A_n\n",
        "    # Calculation of sensitivity of last layer of neural network\n",
        "    S_n = np.array(-2*np.dot(F_n,error.T))\n",
        "    Sn_list.append(S_n)\n",
        "    # Calculation of previous layer sensitivities\n",
        "    for i in range(len(F_list),0,-1):\n",
        "        # F_dot_W = multiplication of Fn and Wn+1 transpose\n",
        "        F_dot_W = np.array(np.dot(F_list[i-1],Weights[i].T))\n",
        "        S_n = np.dot(reverse_reshaping(F_dot_W),reverse_reshaping(S_n))\n",
        "        Sn_list.append(S_n.T)\n",
        "    # Return List of Sensitivity indices\n",
        "    return Sn_list\n"
      ]
    },
    {
      "cell_type": "markdown",
      "metadata": {
        "id": "RDWrJeAsb2mt"
      },
      "source": [
        "### Weight and Bias updation:\n",
        "\n",
        "${\\bf W^m}(k + 1) = {\\bf W^m} (k) - α {\\bf s^m (a^{m-1})^{\\it T}}$\n",
        "\n",
        "${\\bf b^m}(k + 1) = {\\bf b^m} (k) - α {\\bf s^m }$\n",
        "\n",
        "#### Where, $k$ is the epoch and $α$ is the learning rate"
      ]
    },
    {
      "cell_type": "code",
      "execution_count": 92,
      "metadata": {
        "id": "aYQFww5dLM4f"
      },
      "outputs": [],
      "source": [
        "def weight_bias_updation(Weight,Bias,Alpha,Sensitivity,X_List):\n",
        "    new_weights = []\n",
        "    new_bias = []\n",
        "    # To change the vector shape from (n,1) -> (n,)\n",
        "    def reshaping(vector):\n",
        "      if type(vector[0]) == np.float64:\n",
        "        return vector\n",
        "      else:\n",
        "        if vector.shape == (len(vector),1):\n",
        "          return vector.reshape(len(vector),)\n",
        "        elif vector.shape == (1,len(vector[0])):\n",
        "          return vector.reshape(len(vector[0]),)\n",
        "        else :\n",
        "          return vector\n",
        "    # To change the shape of vector from (n,) -> (n,1)\n",
        "    def reverse_reshaping(vector):\n",
        "      if type(vector) == float:\n",
        "        return vector\n",
        "      else:\n",
        "        if vector.shape == ():\n",
        "          return vector.reshape(1,1)\n",
        "        elif vector.shape == (len(vector),):\n",
        "          return vector.reshape(len(vector),1)\n",
        "        else :\n",
        "          return vector\n",
        "    # Reversing the Sensitivity List\n",
        "    def Reverse(lst):\n",
        "        return [ele for ele in reversed(lst)]\n",
        "    sens = Reverse(Sensitivity)\n",
        "    # Weight Updation\n",
        "    for i in range(len(Weight)):\n",
        "        # Using reshapeing and reverse reshaping for safe check the (n,1) and (n,) cases\n",
        "        delta_w = reshaping(Alpha*sens[i]*reverse_reshaping(X_List[i]))\n",
        "        w = Weight[i] - delta_w.T #As a(1) = X[0], The loop will run for w[0],w[1]...w[n-1], which we will use as w1,w2...wn\n",
        "        new_weights.append(w)\n",
        "    # Bias Updation\n",
        "    for i in range(len(Bias)):\n",
        "        b = Bias[i] - reshaping(Alpha*sens[i].T)\n",
        "        new_bias.append(b)\n",
        "    return new_weights,new_bias"
      ]
    },
    {
      "cell_type": "code",
      "execution_count": 67,
      "metadata": {
        "id": "xMKRmc2zDCzQ"
      },
      "outputs": [],
      "source": [
        "def Error_Collection(Target,Output,All_Errors):\n",
        "  Error = Cost(Output,Target)\n",
        "  All_Errors.append(Error)"
      ]
    },
    {
      "cell_type": "code",
      "execution_count": 68,
      "metadata": {
        "id": "D3t0iRlkLM4g"
      },
      "outputs": [],
      "source": [
        "def backpropagation(Weight,Bias,Pattern,Target,Alpha,Transfer_Function,F_Prime,Epoch):\n",
        "  all_errors = []\n",
        "  epoch_list = []\n",
        "  # Loop through number of epochs\n",
        "  for i in range(Epoch):\n",
        "      # Feed Forward\n",
        "      zl,xl = feed_forward(Weight,Bias,Pattern,Transfer_Function)\n",
        "      actual_output = xl[len(xl)-1]\n",
        "      # Error Calculation\n",
        "      Error_Collection(Target,actual_output,all_errors)\n",
        "      # Sensitivity\n",
        "      sen = sensitivity(zl,xl,F_Prime,Target,Weight)\n",
        "      # Weight Bias Updation\n",
        "      Weight,Bias = weight_bias_updation(Weight,Bias,Alpha,sen,xl)\n",
        "      epoch_list.append(i+1)\n",
        "  # Plot Epoch vs MSE diagram\n",
        "  plt.scatter(epoch_list,all_errors)\n",
        "  plt.xlabel('Number of Epoch')\n",
        "  plt.ylabel('Mean Square Error')\n",
        "      "
      ]
    },
    {
      "cell_type": "code",
      "execution_count": 69,
      "metadata": {
        "id": "SxJmBHunOArC"
      },
      "outputs": [],
      "source": [
        "def input_velues():\n",
        "  # Getting user input\n",
        "  print('Enter number of layers :')\n",
        "  num_layers = int(input())\n",
        "  num_nurons = []\n",
        "  Tf_list = []\n",
        "  F_prime = []\n",
        "  W = []\n",
        "  B = []\n",
        "  X = []\n",
        "  T = []\n",
        "  print('\\n')\n",
        "  for num in range(num_layers):\n",
        "    print('Enter numbers of neurons in layer {number} :'.format(number = num))\n",
        "    num_nuron = int(input())\n",
        "    num_nurons.append(num_nuron)\n",
        "  print('Enter mathametical expression with respect to variable x.\\n The variable should be continous, differntiable and use the proper Latex notation for each expression.\\n')\n",
        "  for num in range(num_layers - 1):\n",
        "    # Converting Tf expression into function\n",
        "    f_exp = input('Enter Expression for transfer function of layer {number} :'.format(number = num + 1))\n",
        "    x = Symbol('x')\n",
        "    f = lambdify(x,f_exp)\n",
        "    # Differentiation of the Given Function  \n",
        "    f_prime_exp = diff(f_exp)\n",
        "    f_prime = lambdify(x,f_prime_exp)\n",
        "    # Appending to the Transfer function and Derivative of Tf list\n",
        "    Tf_list.append(f)\n",
        "    F_prime.append(f_prime)\n",
        "\n",
        "  def reshaping(vector):\n",
        "    # To change the vector shape from (n,1) -> (n,)\n",
        "    if type(vector[0]) == np.float64:\n",
        "      return vector\n",
        "    else:\n",
        "      if vector.shape == (len(vector),1):\n",
        "        return vector.reshape(len(vector),)\n",
        "      elif vector.shape == (1,len(vector[0])):\n",
        "        return vector.reshape(len(vector[0]),)\n",
        "      else :\n",
        "        return vector\n",
        "  # Generating the random weight and bias\n",
        "  for i in range(len(num_nurons)-1):\n",
        "    w = np.random.rand(num_nurons[i+1],num_nurons[i])\n",
        "    b = np.random.rand(num_nurons[i+1])\n",
        "    W.append(w)\n",
        "    B.append(b)\n",
        "  new_w = []\n",
        "  new_b = []\n",
        "  # Reshaping the weight and bias matrics\n",
        "  for w in W:\n",
        "    w = reshaping(w)\n",
        "    new_w.append(w)\n",
        "  for b in B:\n",
        "    b = reshaping(b)\n",
        "    new_b.append(b)\n",
        "  W = new_w\n",
        "  B = new_b\n",
        "  print('\\n')\n",
        "  print('Enter the list of patterns:')\n",
        "  # Converting input string to point the input variable present in the environment\n",
        "  pattern_input = input()\n",
        "  X = globals()[pattern_input]\n",
        "  print('Enter the target:')\n",
        "  # Converting input string to point the target variable present in the environment\n",
        "  target_input = input()\n",
        "  T = globals()[target_input]\n",
        "  X = np.array(X)\n",
        "  T = np.array(T)\n",
        "  # Input of Learning Rate and Epoch\n",
        "  alpha = float(input('Enter the learning rate :'))\n",
        "  epoch = int(input('Enter the number of epoch :'))\n",
        "  return W,B,Tf_list,F_prime,X,T,alpha,epoch\n"
      ]
    },
    {
      "cell_type": "code",
      "execution_count": 70,
      "metadata": {
        "id": "9eQVFqSbDj_5"
      },
      "outputs": [],
      "source": [
        "def main():\n",
        "  # Getting the input\n",
        "  W,B,Tf_list,F_prime,X,Target,alpha,epoch = input_velues()\n",
        "  # Print initial Weight and Bias \n",
        "  print('\\nInitial Weights:')\n",
        "  print(W)\n",
        "  print('\\nInitial Biases:')\n",
        "  print(B)\n",
        "  print('\\n')\n",
        "  # Backpropagetion\n",
        "  backpropagation(W,B,X,Target,alpha,Tf_list,F_prime,epoch)"
      ]
    },
    {
      "cell_type": "markdown",
      "metadata": {},
      "source": [
        "### Input and Target of the Nural Network"
      ]
    },
    {
      "cell_type": "code",
      "execution_count": 71,
      "metadata": {
        "id": "0_T6qwxUt2SS"
      },
      "outputs": [],
      "source": [
        "def g(p):\n",
        "  return 1 + np.sin(np.pi /4 * p)"
      ]
    },
    {
      "cell_type": "code",
      "execution_count": 97,
      "metadata": {
        "colab": {
          "base_uri": "https://localhost:8080/"
        },
        "id": "svmg29bGujys",
        "outputId": "57e02688-7d65-4307-f9ac-a29ffb0436da"
      },
      "outputs": [
        {
          "data": {
            "text/plain": [
              "1.8846600863469622"
            ]
          },
          "execution_count": 97,
          "metadata": {},
          "output_type": "execute_result"
        }
      ],
      "source": [
        "inp = np.random.uniform(-2,2,)\n",
        "inp"
      ]
    },
    {
      "cell_type": "code",
      "execution_count": 98,
      "metadata": {
        "colab": {
          "base_uri": "https://localhost:8080/"
        },
        "id": "9986SELUJDTD",
        "outputId": "a76381e3-8dcf-4e2b-8594-5c2dc37dcf6d"
      },
      "outputs": [
        {
          "data": {
            "text/plain": [
              "1.9958997342973805"
            ]
          },
          "execution_count": 98,
          "metadata": {},
          "output_type": "execute_result"
        }
      ],
      "source": [
        "out = g(inp)\n",
        "out"
      ]
    },
    {
      "cell_type": "markdown",
      "metadata": {
        "id": "yIHTECaHhv_k"
      },
      "source": [
        "### Architecture of nural network:\n",
        "\n",
        "![nural net 1.png](data:image/png;base64,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)"
      ]
    },
    {
      "cell_type": "code",
      "execution_count": 99,
      "metadata": {
        "colab": {
          "base_uri": "https://localhost:8080/",
          "height": 818
        },
        "id": "Ph1XWlyLDH9O",
        "outputId": "25173826-b8e3-41af-b645-272dd44c11bc"
      },
      "outputs": [
        {
          "name": "stdout",
          "output_type": "stream",
          "text": [
            "Enter number of layers :\n",
            "3\n",
            "\n",
            "\n",
            "Enter numbers of neurons in layer 0 :\n",
            "1\n",
            "Enter numbers of neurons in layer 1 :\n",
            "2\n",
            "Enter numbers of neurons in layer 2 :\n",
            "1\n",
            "Enter mathametical expression with respect to variable x.\n",
            " The variable should be continous, differntiable and use the proper Latex notation for each expression.\n",
            "\n",
            "Enter Expression for transfer function of layer 1 :1/(1+exp(-x))\n",
            "Enter Expression for transfer function of layer 2 :x\n",
            "\n",
            "\n",
            "Enter the list of patterns:\n",
            "inp\n",
            "Enter the target:\n",
            "out\n",
            "Enter the learning rate :0.1\n",
            "Enter the number of epoch :20\n",
            "\n",
            "Initial Weights:\n",
            "[array([0.10287018, 0.89164604]), array([0.15541074, 0.96535242])]\n",
            "\n",
            "Initial Biases:\n",
            "[array([0.8999683 , 0.22554195]), array([0.54766327])]\n",
            "\n",
            "\n"
          ]
        },
        {
          "data": {
            "image/png": "[encoded data removed]",
            "text/plain": [
              "<Figure size 432x288 with 1 Axes>"
            ]
          },
          "metadata": {
            "needs_background": "light"
          },
          "output_type": "display_data"
        }
      ],
      "source": [
        "main()"
      ]
    },
    {
      "cell_type": "markdown",
      "metadata": {
        "id": "PygN8yWwiOUN"
      },
      "source": [
        "### Other architecture of the network:\n",
        "\n",
        "![nural net 2.png](data:image/png;base64,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)"
      ]
    },
    {
      "cell_type": "code",
      "execution_count": 100,
      "metadata": {
        "colab": {
          "base_uri": "https://localhost:8080/",
          "height": 817
        },
        "id": "c2qjRTSLh6RL",
        "outputId": "a40c8e5b-ad03-4bfd-e42c-7d35ff977e11"
      },
      "outputs": [
        {
          "name": "stdout",
          "output_type": "stream",
          "text": [
            "Enter number of layers :\n",
            "3\n",
            "\n",
            "\n",
            "Enter numbers of neurons in layer 0 :\n",
            "1\n",
            "Enter numbers of neurons in layer 1 :\n",
            "1\n",
            "Enter numbers of neurons in layer 2 :\n",
            "1\n",
            "Enter mathametical expression with respect to variable x.\n",
            " The variable should be continous, differntiable and use the proper Latex notation for each expression.\n",
            "\n",
            "Enter Expression for transfer function of layer 1 :1/(1+exp(-x))\n",
            "Enter Expression for transfer function of layer 2 :x\n",
            "\n",
            "\n",
            "Enter the list of patterns:\n",
            "inp\n",
            "Enter the target:\n",
            "out\n",
            "Enter the learning rate :0.2\n",
            "Enter the number of epoch :20\n",
            "\n",
            "Initial Weights:\n",
            "[array([0.68158676]), array([0.20736426])]\n",
            "\n",
            "Initial Biases:\n",
            "[array([0.79287951]), array([0.75262676])]\n",
            "\n",
            "\n"
          ]
        },
        {
          "data": {
            "image/png": "[encoded data removed]",
            "text/plain": [
              "<Figure size 432x288 with 1 Axes>"
            ]
          },
          "metadata": {
            "needs_background": "light"
          },
          "output_type": "display_data"
        }
      ],
      "source": [
        "main()"
      ]
    }
  ],
  "metadata": {
    "colab": {
      "name": "Backpropagation Class Example.ipynb",
      "provenance": []
    },
    "interpreter": {
      "hash": "aee8b7b246df8f9039afb4144a1f6fd8d2ca17a180786b69acc140d282b71a49"
    },
    "kernelspec": {
      "display_name": "Python 3.9.7 64-bit",
      "language": "python",
      "name": "python3"
    },
    "language_info": {
      "codemirror_mode": {
        "name": "ipython",
        "version": 3
      },
      "file_extension": ".py",
      "mimetype": "text/x-python",
      "name": "python",
      "nbconvert_exporter": "python",
      "pygments_lexer": "ipython3",
      "version": "3.9.7"
    },
    "orig_nbformat": 4
  },
  "nbformat": 4,
  "nbformat_minor": 0
}
