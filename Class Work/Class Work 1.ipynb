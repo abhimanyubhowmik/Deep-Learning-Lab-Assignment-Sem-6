{
 "cells": [
  {
   "cell_type": "code",
   "execution_count": 3,
   "metadata": {},
   "outputs": [],
   "source": [
    "import numpy as np\n",
    "import matplotlib.pyplot as plt"
   ]
  },
  {
   "cell_type": "code",
   "execution_count": 9,
   "metadata": {},
   "outputs": [],
   "source": [
    "def calculation(x,y,epoch,alpha):\n",
    "    tot_err = []\n",
    "    updated_weight_epoch = []\n",
    "    for e in range(epoch):\n",
    "        err_list = []\n",
    "        updated_weight = []\n",
    "        for i in range(len(x)):\n",
    "            if len(updated_weight_epoch) == 0:\n",
    "                w = np.zeros((1,3))\n",
    "            else:\n",
    "                w = updated_weight_epoch[e - 1][i]\n",
    "            net = np.dot(x[i],w.T)\n",
    "            err = y[i] - net\n",
    "            net_err = np.dot(err,err.T)\n",
    "            err_list.append(err)\n",
    "            w_new = w + 2 * alpha * err * x[i]\n",
    "            updated_weight.append(w_new)\n",
    "        tot_err.append(err_list)\n",
    "        updated_weight_epoch.append(updated_weight)\n",
    "\n",
    "    print(updated_weight_epoch[-1])\n",
    "    X1 = np.arange(1,epoch + 1, 1)\n",
    "    Y1 = np.array(tot_err)[:,0]\n",
    "    plt.plot(X1,Y1,label = 'P1', marker = 'o')\n",
    "    X2 = np.arange(1,epoch + 1, 1)\n",
    "    Y2 = np.array(tot_err)[:,1]\n",
    "    plt.plot(X2,Y2,label = 'P2', marker = 'o')\n",
    "    plt.legend(loc = 'upper left')\n",
    "    plt.xlabel('Epoch')\n",
    "    plt.ylabel('Error')\n",
    "    plt.show()\n"
   ]
  },
  {
   "cell_type": "code",
   "execution_count": 5,
   "metadata": {},
   "outputs": [
    {
     "data": {
      "text/plain": [
       "(2, 3)"
      ]
     },
     "execution_count": 5,
     "metadata": {},
     "output_type": "execute_result"
    }
   ],
   "source": [
    "p1 = [1,-1,-1]\n",
    "p2 = [1,1,-1]\n",
    "x = np.stack((p1,p2))\n",
    "x.shape"
   ]
  },
  {
   "cell_type": "code",
   "execution_count": 6,
   "metadata": {},
   "outputs": [],
   "source": [
    "y = np.array([-1,1])"
   ]
  },
  {
   "cell_type": "code",
   "execution_count": 13,
   "metadata": {},
   "outputs": [
    {
     "name": "stdout",
     "output_type": "stream",
     "text": [
      "[array([[-0.23663125,  0.23663125,  0.23663125]]), array([[ 0.23663125,  0.23663125, -0.23663125]])]\n"
     ]
    },
    {
     "data": {
      "image/png": "[encoded data removed]",
      "text/plain": [
       "<Figure size 432x288 with 1 Axes>"
      ]
     },
     "metadata": {
      "needs_background": "light"
     },
     "output_type": "display_data"
    }
   ],
   "source": [
    "calculation(x,y, 20, 0.01)"
   ]
  }
 ],
 "metadata": {
  "interpreter": {
   "hash": "aee8b7b246df8f9039afb4144a1f6fd8d2ca17a180786b69acc140d282b71a49"
  },
  "kernelspec": {
   "display_name": "Python 3.9.7 64-bit",
   "language": "python",
   "name": "python3"
  },
  "language_info": {
   "codemirror_mode": {
    "name": "ipython",
    "version": 3
   },
   "file_extension": ".py",
   "mimetype": "text/x-python",
   "name": "python",
   "nbconvert_exporter": "python",
   "pygments_lexer": "ipython3",
   "version": "3.9.7"
  },
  "orig_nbformat": 4
 },
 "nbformat": 4,
 "nbformat_minor": 2
}
